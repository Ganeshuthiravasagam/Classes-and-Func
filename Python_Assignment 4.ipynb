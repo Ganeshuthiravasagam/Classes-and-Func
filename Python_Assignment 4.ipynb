{
 "cells": [
  {
   "cell_type": "code",
   "execution_count": null,
   "metadata": {},
   "outputs": [],
   "source": [
    "# Write a Python Program(with class concepts) to find the area of the triangle using the below formula.\n",
    "# area = (s*(s-a)*(s-b)*(s-c)) ** 0.5\n",
    "\n",
    "# Function to take the length of the sides of triangle from user should be defined in the parent\n",
    "# class and function to calculate the area should be defined in subclass."
   ]
  },
  {
   "cell_type": "code",
   "execution_count": 2,
   "metadata": {},
   "outputs": [
    {
     "name": "stdout",
     "output_type": "stream",
     "text": [
      "Enter a value4\n",
      "Enter b value5\n",
      "Enter c value6\n",
      "Enter s value7\n",
      "6.48074069840786\n"
     ]
    }
   ],
   "source": [
    "a = int(input(\"Enter a value\"))\n",
    "b = int(input(\"Enter b value\"))\n",
    "c = int(input(\"Enter c value\"))\n",
    "s = int(input(\"Enter s value\"))\n",
    "class area_triangle:\n",
    "    def __init__(self, a,b,c,s):\n",
    "        self.s = s\n",
    "        self.a = a\n",
    "        self.c = c\n",
    "        self.b = b\n",
    "class Final_area(area_triangle):\n",
    "    def area(self):\n",
    "        print((s*(s-a)*(s-b)*(s-c)) ** 0.5)\n",
    "Final = Final_area(a,b,c,s)\n",
    "Final.area()\n",
    "        \n",
    "        \n",
    "        \n",
    "        "
   ]
  },
  {
   "cell_type": "code",
   "execution_count": null,
   "metadata": {},
   "outputs": [],
   "source": []
  },
  {
   "cell_type": "code",
   "execution_count": 3,
   "metadata": {},
   "outputs": [
    {
     "name": "stdout",
     "output_type": "stream",
     "text": [
      "Enter number of items to be in the list : 2\n",
      "Ganesh\n",
      "vasag\n",
      "['Ganesh', 'vasag']\n",
      "Enter the Number: 5\n",
      "['Ganesh']\n"
     ]
    }
   ],
   "source": [
    "def filter_long_words(lst, N):\n",
    "    List =[]\n",
    "    for i in lst:    \n",
    "        if len(i)>N:\n",
    "            List.append(i)\n",
    "    print (List)\n",
    "lst = []\n",
    "n = int(input(\"Enter number of items to be in the list : \"))\n",
    "for i in range(0, n):\n",
    "    ele = (input())\n",
    "    lst.append(ele)\n",
    "print(lst)\n",
    "N = int(input(\"Enter the Number: \"))\n",
    "\n",
    "filter_long_words(lst, N)"
   ]
  },
  {
   "cell_type": "code",
   "execution_count": 1,
   "metadata": {},
   "outputs": [
    {
     "name": "stdout",
     "output_type": "stream",
     "text": [
      "Enter number of items to be in the list : 2\n",
      "ganesh\n",
      "vasag\n",
      "[6, 5]\n"
     ]
    }
   ],
   "source": [
    "def map_func(lt):\n",
    "    let=[]\n",
    "    for i in lt:\n",
    "        let.append(len(i))\n",
    "    print(let)   \n",
    "lt=[]\n",
    "k = int(input(\"Enter number of items to be in the list : \"))\n",
    "for i in range(0, k):\n",
    "    ele = (input())\n",
    "    lt.append(ele)\n",
    "\n",
    "map_func(lt)"
   ]
  },
  {
   "cell_type": "code",
   "execution_count": 6,
   "metadata": {},
   "outputs": [
    {
     "name": "stdout",
     "output_type": "stream",
     "text": [
      "Enter a character: A\n",
      "True\n"
     ]
    }
   ],
   "source": [
    "def character(i):\n",
    "    L = [\"a\",\"e\",\"i\",\"o\",\"u\", \"A\", \"E\", \"I\", \"O\", \"U\"]\n",
    "    if i in L:\n",
    "        print (True)\n",
    "    else:\n",
    "        print(False)\n",
    "i = input(\"Enter a character: \")\n",
    "character(i)"
   ]
  },
  {
   "cell_type": "code",
   "execution_count": null,
   "metadata": {},
   "outputs": [],
   "source": []
  }
 ],
 "metadata": {
  "kernelspec": {
   "display_name": "Python 3",
   "language": "python",
   "name": "python3"
  },
  "language_info": {
   "codemirror_mode": {
    "name": "ipython",
    "version": 3
   },
   "file_extension": ".py",
   "mimetype": "text/x-python",
   "name": "python",
   "nbconvert_exporter": "python",
   "pygments_lexer": "ipython3",
   "version": "3.8.3"
  }
 },
 "nbformat": 4,
 "nbformat_minor": 4
}
